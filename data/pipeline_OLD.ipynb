{
 "cells": [
  {
   "cell_type": "markdown",
   "metadata": {},
   "source": [
    "# Pipeline --> data ingestor\n",
    "\n",
    "making the pipeline work to download "
   ]
  },
  {
   "cell_type": "code",
   "execution_count": 25,
   "metadata": {},
   "outputs": [],
   "source": [
    "import pandas as pd\n",
    "import numpy as np\n",
    "import matplotlib.pyplot as plt\n"
   ]
  },
  {
   "cell_type": "markdown",
   "metadata": {},
   "source": [
    "## Read data Provided"
   ]
  },
  {
   "cell_type": "code",
   "execution_count": 28,
   "metadata": {},
   "outputs": [],
   "source": [
    "# read data\n",
    "df = pd.read_json('./aggr/json2.json')"
   ]
  },
  {
   "cell_type": "code",
   "execution_count": 29,
   "metadata": {},
   "outputs": [
    {
     "data": {
      "text/html": [
       "<div>\n",
       "<style scoped>\n",
       "    .dataframe tbody tr th:only-of-type {\n",
       "        vertical-align: middle;\n",
       "    }\n",
       "\n",
       "    .dataframe tbody tr th {\n",
       "        vertical-align: top;\n",
       "    }\n",
       "\n",
       "    .dataframe thead th {\n",
       "        text-align: right;\n",
       "    }\n",
       "</style>\n",
       "<table border=\"1\" class=\"dataframe\">\n",
       "  <thead>\n",
       "    <tr style=\"text-align: right;\">\n",
       "      <th></th>\n",
       "      <th>Power (W)</th>\n",
       "    </tr>\n",
       "    <tr>\n",
       "      <th>Timestamp</th>\n",
       "      <th></th>\n",
       "    </tr>\n",
       "  </thead>\n",
       "  <tbody>\n",
       "    <tr>\n",
       "      <th>2018-08-01 01:00:00</th>\n",
       "      <td>-0.64352</td>\n",
       "    </tr>\n",
       "    <tr>\n",
       "      <th>2018-08-01 01:10:00</th>\n",
       "      <td>-0.64609</td>\n",
       "    </tr>\n",
       "    <tr>\n",
       "      <th>2018-08-01 01:20:00</th>\n",
       "      <td>-0.64651</td>\n",
       "    </tr>\n",
       "    <tr>\n",
       "      <th>2018-08-01 01:30:00</th>\n",
       "      <td>-0.64493</td>\n",
       "    </tr>\n",
       "    <tr>\n",
       "      <th>2018-08-01 01:40:00</th>\n",
       "      <td>-0.64638</td>\n",
       "    </tr>\n",
       "  </tbody>\n",
       "</table>\n",
       "</div>"
      ],
      "text/plain": [
       "                     Power (W)\n",
       "Timestamp                     \n",
       "2018-08-01 01:00:00   -0.64352\n",
       "2018-08-01 01:10:00   -0.64609\n",
       "2018-08-01 01:20:00   -0.64651\n",
       "2018-08-01 01:30:00   -0.64493\n",
       "2018-08-01 01:40:00   -0.64638"
      ]
     },
     "execution_count": 29,
     "metadata": {},
     "output_type": "execute_result"
    }
   ],
   "source": [
    "pv = df[df.get('Energy (Wh)').isna()]\n",
    "timestamp = pv[\"Year\"].astype(str) + \"-\" + pv[\"Month\"].astype(str) + \"-\" + pv[\"Day\"].astype(str) + \" \" + pv[\"Timestamp\"].dt.hour.astype(str) + \":\" + pv[\"Timestamp\"].dt.minute.astype(str) + \":\" + pv[\"Timestamp\"].dt.second.astype(str)\n",
    "res = pd.to_datetime(timestamp,\n",
    "               format='%Y-%m-%d %H:%M:%S')\n",
    "pv.loc[:, 'Timestamp'] = res\n",
    "pv = pv.drop(columns=['Energy (Wh)', 'Year', 'Month', 'Day'])\n",
    "pv.set_index('Timestamp', inplace=True)\n",
    "\n",
    "pv.head()\n"
   ]
  },
  {
   "cell_type": "code",
   "execution_count": 31,
   "metadata": {},
   "outputs": [
    {
     "data": {
      "text/html": [
       "<div>\n",
       "<style scoped>\n",
       "    .dataframe tbody tr th:only-of-type {\n",
       "        vertical-align: middle;\n",
       "    }\n",
       "\n",
       "    .dataframe tbody tr th {\n",
       "        vertical-align: top;\n",
       "    }\n",
       "\n",
       "    .dataframe thead th {\n",
       "        text-align: right;\n",
       "    }\n",
       "</style>\n",
       "<table border=\"1\" class=\"dataframe\">\n",
       "  <thead>\n",
       "    <tr style=\"text-align: right;\">\n",
       "      <th></th>\n",
       "      <th>Energy (Wh)</th>\n",
       "    </tr>\n",
       "    <tr>\n",
       "      <th>Timestamp</th>\n",
       "      <th></th>\n",
       "    </tr>\n",
       "  </thead>\n",
       "  <tbody>\n",
       "    <tr>\n",
       "      <th>2018-08-01 01:10:00</th>\n",
       "      <td>10539.850000</td>\n",
       "    </tr>\n",
       "    <tr>\n",
       "      <th>2018-08-01 01:20:00</th>\n",
       "      <td>10466.500000</td>\n",
       "    </tr>\n",
       "    <tr>\n",
       "      <th>2018-08-01 01:30:00</th>\n",
       "      <td>10598.533333</td>\n",
       "    </tr>\n",
       "    <tr>\n",
       "      <th>2018-08-01 01:40:00</th>\n",
       "      <td>10620.966667</td>\n",
       "    </tr>\n",
       "    <tr>\n",
       "      <th>2018-08-01 01:50:00</th>\n",
       "      <td>10503.900000</td>\n",
       "    </tr>\n",
       "  </tbody>\n",
       "</table>\n",
       "</div>"
      ],
      "text/plain": [
       "                      Energy (Wh)\n",
       "Timestamp                        \n",
       "2018-08-01 01:10:00  10539.850000\n",
       "2018-08-01 01:20:00  10466.500000\n",
       "2018-08-01 01:30:00  10598.533333\n",
       "2018-08-01 01:40:00  10620.966667\n",
       "2018-08-01 01:50:00  10503.900000"
      ]
     },
     "execution_count": 31,
     "metadata": {},
     "output_type": "execute_result"
    }
   ],
   "source": [
    "pe = df[df.get('Energy (Wh)').notna()]\n",
    "timestamp = pe[\"Year\"].astype(str) + \"-\" + pe[\"Month\"].astype(str) + \"-\" + pe[\"Day\"].astype(str) + \" \" + pe[\"Timestamp\"].dt.hour.astype(str) + \":\" + pe[\"Timestamp\"].dt.minute.astype(str) + \":\" + pe[\"Timestamp\"].dt.second.astype(str)\n",
    "res = pd.to_datetime(timestamp,\n",
    "               format='%Y-%m-%d %H:%M:%S')\n",
    "pe.loc[:, 'Timestamp'] = res\n",
    "pe = pe.drop(columns=['Power (W)', 'Year', 'Month', 'Day'])\n",
    "pe.set_index('Timestamp', inplace=True)\n",
    "\n",
    "pe.head()"
   ]
  },
  {
   "cell_type": "code",
   "execution_count": 106,
   "metadata": {},
   "outputs": [],
   "source": [
    "# save json file\n",
    "res.loc[:, 'date'] = res.index\n",
    "res.to_json('data.json', orient=\"records\")"
   ]
  },
  {
   "cell_type": "markdown",
   "metadata": {},
   "source": [
    "## Read data weather"
   ]
  },
  {
   "cell_type": "code",
   "execution_count": 3,
   "metadata": {},
   "outputs": [
    {
     "ename": "NameError",
     "evalue": "name 'pd' is not defined",
     "output_type": "error",
     "traceback": [
      "\u001b[1;31m---------------------------------------------------------------------------\u001b[0m",
      "\u001b[1;31mNameError\u001b[0m                                 Traceback (most recent call last)",
      "Cell \u001b[1;32mIn[3], line 7\u001b[0m\n\u001b[0;32m      4\u001b[0m \u001b[39mwith\u001b[39;00m \u001b[39mopen\u001b[39m(\u001b[39m'\u001b[39m\u001b[39m./aggr/irradiance.json\u001b[39m\u001b[39m'\u001b[39m) \u001b[39mas\u001b[39;00m f:\n\u001b[0;32m      5\u001b[0m     data \u001b[39m=\u001b[39m json\u001b[39m.\u001b[39mload(f)\n\u001b[1;32m----> 7\u001b[0m df \u001b[39m=\u001b[39m pd\u001b[39m.\u001b[39mjson_normalize(data[\u001b[39m'\u001b[39m\u001b[39moutputs\u001b[39m\u001b[39m'\u001b[39m][\u001b[39m'\u001b[39m\u001b[39mhourly\u001b[39m\u001b[39m'\u001b[39m])\n\u001b[0;32m      8\u001b[0m res \u001b[39m=\u001b[39m pd\u001b[39m.\u001b[39mto_datetime(df[\u001b[39m'\u001b[39m\u001b[39mtime\u001b[39m\u001b[39m'\u001b[39m],\n\u001b[0;32m      9\u001b[0m                \u001b[39mformat\u001b[39m\u001b[39m=\u001b[39m\u001b[39m'\u001b[39m\u001b[39m%\u001b[39m\u001b[39mY\u001b[39m\u001b[39m%\u001b[39m\u001b[39mm\u001b[39m\u001b[39m%d\u001b[39;00m\u001b[39m:\u001b[39m\u001b[39m%\u001b[39m\u001b[39mH\u001b[39m\u001b[39m%\u001b[39m\u001b[39mM\u001b[39m\u001b[39m'\u001b[39m)\n\u001b[0;32m     10\u001b[0m df\u001b[39m.\u001b[39mloc[:, \u001b[39m'\u001b[39m\u001b[39mtime\u001b[39m\u001b[39m'\u001b[39m] \u001b[39m=\u001b[39m res\n",
      "\u001b[1;31mNameError\u001b[0m: name 'pd' is not defined"
     ]
    }
   ],
   "source": [
    "import json\n",
    "\n",
    "# read data\n",
    "with open('./aggr/irradiance.json') as f:\n",
    "    data = json.load(f)\n",
    "\n",
    "df = pd.json_normalize(data['outputs']['hourly'])\n",
    "res = pd.to_datetime(df['time'],\n",
    "               format='%Y%m%d:%H%M')\n",
    "df.loc[:, 'time'] = res\n",
    "df.set_index('time', inplace=True)\n",
    "df.index.rename('Timestamp', inplace=True)\n",
    "df.head()\n",
    "    \n"
   ]
  },
  {
   "cell_type": "markdown",
   "metadata": {},
   "source": [
    "## Join all the data"
   ]
  },
  {
   "cell_type": "code",
   "execution_count": 63,
   "metadata": {},
   "outputs": [
    {
     "name": "stdout",
     "output_type": "stream",
     "text": [
      "                     Power (W)        P   Gb(i)   Gd(i)  Gr(i)  H_sun    T2m  \\\n",
      "Timestamp                                                                      \n",
      "2018-08-01 01:10:00   -0.64609      0.0    0.00    0.00   0.00   0.00  21.35   \n",
      "2018-08-01 02:10:00   -0.64509      0.0    0.00    0.00   0.00   0.00  20.46   \n",
      "2018-08-01 03:10:00   -0.63602      0.0    0.00    0.00   0.00   0.00  19.80   \n",
      "2018-08-01 04:10:00   -0.63472      0.0    0.00    0.00   0.00   0.00  19.29   \n",
      "2018-08-01 05:10:00   -0.63837  65186.6  312.89  113.23  13.37  11.04  19.76   \n",
      "...                        ...      ...     ...     ...    ...    ...    ...   \n",
      "2019-07-31 20:10:00   34.48010      0.0    0.00    0.00   0.00   0.00  24.21   \n",
      "2019-07-31 21:10:00   33.90440      0.0    0.00    0.00   0.00   0.00  23.68   \n",
      "2019-07-31 22:10:00   34.15010      0.0    0.00    0.00   0.00   0.00  23.04   \n",
      "2019-07-31 23:10:00   33.57510      0.0    0.00    0.00   0.00   0.00  22.35   \n",
      "2019-08-01 00:10:00   33.85810      0.0    0.00    0.00   0.00   0.00  21.33   \n",
      "\n",
      "                     WS10m  Int  \n",
      "Timestamp                        \n",
      "2018-08-01 01:10:00   1.45  0.0  \n",
      "2018-08-01 02:10:00   1.38  0.0  \n",
      "2018-08-01 03:10:00   1.31  0.0  \n",
      "2018-08-01 04:10:00   1.24  0.0  \n",
      "2018-08-01 05:10:00   0.97  0.0  \n",
      "...                    ...  ...  \n",
      "2019-07-31 20:10:00   0.76  0.0  \n",
      "2019-07-31 21:10:00   0.55  0.0  \n",
      "2019-07-31 22:10:00   0.41  0.0  \n",
      "2019-07-31 23:10:00   0.62  0.0  \n",
      "2019-08-01 00:10:00   0.83  0.0  \n",
      "\n",
      "[8729 rows x 9 columns]\n"
     ]
    }
   ],
   "source": [
    "res = pv.join(df)\n",
    "# remove all rows with missing values\n",
    "res = res.dropna()\n",
    "\n",
    "print(res)\n"
   ]
  },
  {
   "cell_type": "markdown",
   "metadata": {},
   "source": [
    "## Rename data"
   ]
  },
  {
   "cell_type": "code",
   "execution_count": 59,
   "metadata": {},
   "outputs": [],
   "source": [
    "# rename columns\n",
    "res.rename(columns={'P': 'Power', 'Gb(i)': 'Direct irradiance', 'Gd(i)':'Diffuse irradiance', 'Gr(i)':'Reflected irradiance', 'H_sun':'Sun height'}, inplace=True)"
   ]
  },
  {
   "cell_type": "code",
   "execution_count": 61,
   "metadata": {},
   "outputs": [
    {
     "name": "stdout",
     "output_type": "stream",
     "text": [
      "                      Energy (Wh)  Power (W)      Power  Direct irradiance  \\\n",
      "Timestamp                                                                    \n",
      "2018-08-01 06:10:00  18460.000000   -0.62264  104243.80             556.41   \n",
      "2018-08-01 07:10:00  20672.666667   -0.63959  118967.95             679.55   \n",
      "2018-08-01 08:10:00  21845.166667   -0.63074  124553.10             724.78   \n",
      "2018-08-01 09:10:00  22226.166667   -0.63013  128778.50             781.90   \n",
      "2018-08-01 10:10:00  23061.333333   -0.63192  128156.90             762.69   \n",
      "\n",
      "                     Diffuse irradiance  Reflected irradiance  Sun height  \\\n",
      "Timestamp                                                                   \n",
      "2018-08-01 06:10:00              157.01                 26.85       21.90   \n",
      "2018-08-01 07:10:00              160.69                 33.99       32.92   \n",
      "2018-08-01 08:10:00              167.61                 34.70       43.72   \n",
      "2018-08-01 09:10:00              153.91                 32.28       53.72   \n",
      "2018-08-01 10:10:00              177.01                 28.48       61.69   \n",
      "\n",
      "                       T2m  WS10m  Int  \n",
      "Timestamp                               \n",
      "2018-08-01 06:10:00  23.47   0.69  0.0  \n",
      "2018-08-01 07:10:00  27.24   0.97  0.0  \n",
      "2018-08-01 08:10:00  29.89   1.45  0.0  \n",
      "2018-08-01 09:10:00  31.88   1.79  0.0  \n",
      "2018-08-01 10:10:00  33.36   2.00  0.0  \n"
     ]
    }
   ],
   "source": [
    "print(res[5:10])"
   ]
  },
  {
   "cell_type": "code",
   "execution_count": 62,
   "metadata": {},
   "outputs": [
    {
     "data": {
      "text/plain": [
       "[<matplotlib.lines.Line2D at 0x2416b81b4c0>,\n",
       " <matplotlib.lines.Line2D at 0x241702ff8e0>,\n",
       " <matplotlib.lines.Line2D at 0x241702ff850>,\n",
       " <matplotlib.lines.Line2D at 0x241702ff790>,\n",
       " <matplotlib.lines.Line2D at 0x241702ff940>,\n",
       " <matplotlib.lines.Line2D at 0x241702ffa30>,\n",
       " <matplotlib.lines.Line2D at 0x241702ffb20>,\n",
       " <matplotlib.lines.Line2D at 0x241702ffc10>,\n",
       " <matplotlib.lines.Line2D at 0x241702ffd00>,\n",
       " <matplotlib.lines.Line2D at 0x241702ffdf0>]"
      ]
     },
     "execution_count": 62,
     "metadata": {},
     "output_type": "execute_result"
    },
    {
     "data": {
      "image/png": "[encoded data removed]",
      "text/plain": [
       "<Figure size 640x480 with 1 Axes>"
      ]
     },
     "metadata": {},
     "output_type": "display_data"
    }
   ],
   "source": [
    "plt.plot(res)"
   ]
  },
  {
   "cell_type": "code",
   "execution_count": null,
   "metadata": {},
   "outputs": [],
   "source": []
  }
 ],
 "metadata": {
  "kernelspec": {
   "display_name": "hackathon",
   "language": "python",
   "name": "python3"
  },
  "language_info": {
   "codemirror_mode": {
    "name": "ipython",
    "version": 3
   },
   "file_extension": ".py",
   "mimetype": "text/x-python",
   "name": "python",
   "nbconvert_exporter": "python",
   "pygments_lexer": "ipython3",
   "version": "3.9.0"
  },
  "orig_nbformat": 4
 },
 "nbformat": 4,
 "nbformat_minor": 2
}

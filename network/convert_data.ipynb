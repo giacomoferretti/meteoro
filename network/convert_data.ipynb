{
 "cells": [
  {
   "cell_type": "code",
   "execution_count": 1,
   "metadata": {},
   "outputs": [],
   "source": [
    "import pandas as pd\n",
    "import numpy as np\n",
    "from datasets import Dataset, DatasetDict"
   ]
  },
  {
   "cell_type": "code",
   "execution_count": 2,
   "metadata": {},
   "outputs": [],
   "source": [
    "pf = pd.read_json(\"../data/data_non.json\")"
   ]
  },
  {
   "cell_type": "code",
   "execution_count": 3,
   "metadata": {},
   "outputs": [
    {
     "name": "stdout",
     "output_type": "stream",
     "text": [
      "   Consumed Power (W)  Produced Power (W)     Gb(i)     Gd(i)     H_sun  \\\n",
      "0             63239.1          3840.46609  0.000000  0.000000  0.000000   \n",
      "1             61292.5          3840.46509  0.000000  0.000000  0.000000   \n",
      "2             61249.6          3840.45602  0.000000  0.000000  0.000000   \n",
      "3             61852.0          3840.45472  0.000000  0.000000  0.000000   \n",
      "4            120076.0          3840.45837  0.308026  0.267709  0.155976   \n",
      "\n",
      "        T2m                date  \n",
      "0  0.728788 2018-08-01 01:10:00  \n",
      "1  0.713805 2018-08-01 02:10:00  \n",
      "2  0.702694 2018-08-01 03:10:00  \n",
      "3  0.694108 2018-08-01 04:10:00  \n",
      "4  0.702020 2018-08-01 05:10:00  \n"
     ]
    }
   ],
   "source": [
    "print(pf.head())"
   ]
  },
  {
   "cell_type": "code",
   "execution_count": 4,
   "metadata": {},
   "outputs": [
    {
     "name": "stdout",
     "output_type": "stream",
     "text": [
      "   Consumed Power (W)                date\n",
      "0             63239.1 2018-08-01 01:10:00\n",
      "1             61292.5 2018-08-01 02:10:00\n",
      "2             61249.6 2018-08-01 03:10:00\n",
      "3             61852.0 2018-08-01 04:10:00\n",
      "4            120076.0 2018-08-01 05:10:00\n"
     ]
    }
   ],
   "source": [
    "produced = pf.loc[:, [\"Produced Power (W)\", \"date\"]]\n",
    "consumed = pf.loc[:, [\"Consumed Power (W)\", \"date\"]]\n",
    "\n",
    "print(consumed.head())"
   ]
  },
  {
   "cell_type": "code",
   "execution_count": 5,
   "metadata": {},
   "outputs": [
    {
     "name": "stdout",
     "output_type": "stream",
     "text": [
      "[[3840.46609 Timestamp('2018-08-01 01:10:00')]\n",
      " [3840.46509 Timestamp('2018-08-01 02:10:00')]\n",
      " [3840.45602 Timestamp('2018-08-01 03:10:00')]\n",
      " ...\n",
      " [3805.6699 Timestamp('2019-07-31 22:10:00')]\n",
      " [3806.2449 Timestamp('2019-07-31 23:10:00')]\n",
      " [3805.9619 Timestamp('2019-08-01 00:10:00')]]\n"
     ]
    }
   ],
   "source": [
    "time_series_produced = produced.to_numpy()\n",
    "print(time_series_produced)"
   ]
  },
  {
   "cell_type": "markdown",
   "metadata": {},
   "source": [
    "### create dataset"
   ]
  },
  {
   "cell_type": "code",
   "execution_count": 6,
   "metadata": {},
   "outputs": [
    {
     "name": "stdout",
     "output_type": "stream",
     "text": [
      "Total number of sequences:  708\n",
      "Length of each sequence:  240\n",
      "Total number of time_start:  0\n"
     ]
    }
   ],
   "source": [
    "num_days = 10\n",
    "freq = 1\n",
    "sequence_length = num_days * freq * 24\n",
    "\n",
    "#prepare the sequences\n",
    "sequences = []\n",
    "time_start = []\n",
    "\n",
    "for i in range(0, len(time_series_produced) - sequence_length + 1, 12):\n",
    "    #print(time_series_produced[i:i+sequence_length])\n",
    "    sequences.append(time_series_produced[i:i+sequence_length])    \n",
    "\n",
    "print(\"Total number of sequences: \", len(sequences))\n",
    "print(\"Length of each sequence: \", len(sequences[0]))\n",
    "print(\"Total number of time_start: \", len(time_start))"
   ]
  },
  {
   "cell_type": "code",
   "execution_count": 7,
   "metadata": {},
   "outputs": [],
   "source": [
    "sequences = np.array(sequences)"
   ]
  },
  {
   "cell_type": "code",
   "execution_count": 8,
   "metadata": {},
   "outputs": [],
   "source": [
    "# Shuffle the sequences randomly\n",
    "np.random.shuffle(sequences)"
   ]
  },
  {
   "cell_type": "code",
   "execution_count": 9,
   "metadata": {},
   "outputs": [
    {
     "name": "stdout",
     "output_type": "stream",
     "text": [
      "Train set shape: (708, 240, 2)\n",
      "Test set shape: (708, 240, 2)\n",
      "Validation set shape: (708, 240, 2)\n"
     ]
    }
   ],
   "source": [
    "# Define the proportion for train, test, and val sets\n",
    "train_ratio = 1\n",
    "test_ratio = 0\n",
    "val_ratio = 0\n",
    "\n",
    "# Calculate the sizes of each set\n",
    "train_size = int(train_ratio * len(sequences))\n",
    "test_size = int(test_ratio * len(sequences))\n",
    "val_size = len(sequences) - train_size - test_size\n",
    "\n",
    "# Split the sequences into train, test, and validation sets\n",
    "train_sequences = sequences[:train_size]\n",
    "test_sequences = sequences[:train_size]\n",
    "val_sequences = sequences[:train_size]\n",
    "#test_sequences = sequences[train_size:train_size+test_size]\n",
    "#val_sequences = sequences[train_size+test_size:]\n",
    "\n",
    "print(\"Train set shape:\", train_sequences.shape)\n",
    "print(\"Test set shape:\", test_sequences.shape)\n",
    "print(\"Validation set shape:\", val_sequences.shape)"
   ]
  },
  {
   "cell_type": "code",
   "execution_count": 10,
   "metadata": {},
   "outputs": [
    {
     "name": "stdout",
     "output_type": "stream",
     "text": [
      "<class 'list'>\n"
     ]
    }
   ],
   "source": [
    "def flatten_list(input_list):\n",
    "  \"\"\"Flattens a list of lists.\n",
    "\n",
    "  Args:\n",
    "    input_list: A list of lists.\n",
    "\n",
    "  Returns:\n",
    "    A flattened list.\n",
    "  \"\"\"\n",
    "  new_list = []\n",
    "  for sublist in input_list:   \n",
    "    #print(\"sub\", sublist)\n",
    "    flattened_list = np.array([])\n",
    "    for item in sublist:\n",
    "      #print(item)\n",
    "      flattened_list = np.append(flattened_list, item)\n",
    "    #print(\"flat\", flattened_list)\n",
    "    #print(\"new!\", new_list)\n",
    "    new_list.append(flattened_list)\n",
    "  return new_list\n",
    "\n",
    "input_list = [[[0.0171997752],\n",
    "              [0.0395013388]],\n",
    "              [[0.1004146707],\n",
    "              [0.2528682776]],\n",
    "              [[0.20762656000000002],[0.2528682776]]]\n",
    "\n",
    "output_list = flatten_list(input_list)\n",
    "\n",
    "print(type(output_list))"
   ]
  },
  {
   "cell_type": "code",
   "execution_count": 11,
   "metadata": {},
   "outputs": [],
   "source": [
    "leng = train_sequences[:, :, 0:1].shape[1]\n",
    "\n",
    "data_train = {\n",
    "    'target': flatten_list(train_sequences[:, :leng-48, 0:1]),\n",
    "    'start': list(train_sequences[:, 0:1, 1:].flatten()),\n",
    "    'feat_static_cat': [[i] for i in range(train_sequences.shape[0])],\n",
    "    'feat_dynamic_real': [None for i in range(train_sequences.shape[0])],\n",
    "    'item_id': [\"T\" +str(i)  for i in range(1, train_sequences.shape[0]+1)],\n",
    "}\n",
    "\n",
    "data_test = {\n",
    "    'target': flatten_list(test_sequences[:, :, 0:1]),\n",
    "    'start': list(train_sequences[:, 0:1, 1:].flatten()),\n",
    "    'feat_static_cat': [[i] for i in range(train_sequences.shape[0])],\n",
    "    'feat_dynamic_real': [None for i in range(train_sequences.shape[0])],\n",
    "    'item_id': [\"T\" +str(i)  for i in range(1, train_sequences.shape[0]+1)],\n",
    "\n",
    "}\n",
    "data_val = {\n",
    "    'target': flatten_list(val_sequences[:, :leng-24, 0:1]),\n",
    "    'start': list(train_sequences[:, 0:1, 1:].flatten()),\n",
    "    'feat_static_cat': [[i] for i in range(train_sequences.shape[0])],\n",
    "    'feat_dynamic_real': [None for i in range(train_sequences.shape[0])],\n",
    "    'item_id': [\"T\" + str(i) for i in range(1,train_sequences.shape[0]+1)],\n",
    "}\n"
   ]
  },
  {
   "cell_type": "code",
   "execution_count": 12,
   "metadata": {},
   "outputs": [
    {
     "data": {
      "text/plain": [
       "DatasetDict({\n",
       "    train: Dataset({\n",
       "        features: ['target', 'start', 'feat_static_cat', 'feat_dynamic_real', 'item_id'],\n",
       "        num_rows: 708\n",
       "    })\n",
       "    test: Dataset({\n",
       "        features: ['target', 'start', 'feat_static_cat', 'feat_dynamic_real', 'item_id'],\n",
       "        num_rows: 708\n",
       "    })\n",
       "    validation: Dataset({\n",
       "        features: ['target', 'start', 'feat_static_cat', 'feat_dynamic_real', 'item_id'],\n",
       "        num_rows: 708\n",
       "    })\n",
       "})"
      ]
     },
     "execution_count": 12,
     "metadata": {},
     "output_type": "execute_result"
    }
   ],
   "source": [
    "dataset = DatasetDict({'train': Dataset.from_dict(data_train), 'test': Dataset.from_dict(data_test), 'validation': Dataset.from_dict(data_val)})\n",
    "dataset"
   ]
  },
  {
   "cell_type": "markdown",
   "metadata": {},
   "source": [
    "### Visualization new dataset\n",
    "\n",
    "for every batch divide into firrst 140 and last things"
   ]
  },
  {
   "cell_type": "code",
   "execution_count": 13,
   "metadata": {},
   "outputs": [
    {
     "name": "stdout",
     "output_type": "stream",
     "text": [
      "{'target': [3800.8719, 3800.8793, 3800.8101, 3800.6657, 3801.1219, 1353.64, 8002.31, 29815.62, 65655.12, 104169.82, 129791.82, 143631.82, 155510.82, 56351.02, 92161.62, 110918.82, 45971.12, 18137.32, 15370.72, 1208.28, 3799.457, 3799.5768, 3799.201, 3799.4112, 3799.578, 3799.7499, 3799.8911, 3800.1425, 3800.1873, 1333.15, 6813.0, 31667.92, 68618.92, 111152.82, 136221.82, 152142.82, 159212.82, 154109.82, 139637.82, 111996.82, 78293.22, 38683.22, 6676.56, 1282.49, 3799.5863, 3799.8336, 3800.086, 3800.0396, 3800.0492, 3800.4734, 3800.7075, 3800.3601, 3800.6379, 1301.44, 6218.91, 31104.02, 69242.22, 109943.82, 136254.82, 148637.82, 153317.82, 155109.82, 136986.82, 110289.82, 42552.62, 48908.22, 11201.06, 1013.87, 3800.1817, 3800.402, 3800.6486, 3800.6664, 3800.7145, 3801.521, 3801.1647, 3801.1542, 3801.3851, 1363.77, 7705.51, 31127.92, 68677.62, 109134.82, 136717.82, 86117.62, 157485.82, 164767.82, 115927.82, 43110.72, 107625.82, 59141.12, 6727.94, 2289.75, 3799.7524, 3800.2646, 3800.3783, 3800.5117, 3800.2664, 3800.4297, 3800.4646, 3800.0415, 3800.4419, 3799.4968, 11370.07, 37173.42, 48544.32, 106972.82, 3436.93, 2164.56, 2570.22, 19861.12, 32110.12, 35734.02, 41832.12, 38751.52, 4438.571, 1770.99, 3799.2994, 3799.8031, 3800.0143, 3800.4571, 3800.3344, 3800.4349, 3800.7111, 3800.5269, 3800.9159, 1532.93, 5929.03, 32076.62, 71097.32, 111230.82, 141146.82, 158674.82, 166040.82, 28276.62, 56727.72, 79311.02, 76514.92, 34678.82, 11517.28, 1381.22, 3799.5415, 3799.8966, 3800.3862, 3800.1959, 3799.8205, 3800.1187, 3799.7494, 3800.4475, 3800.6639, 2482.82, 7848.2, 26312.02, 45812.82, 109722.82, 134589.82, 148624.82, 160775.82, 55270.82, 54328.02, 123298.82, 36137.82, 12071.51, 8671.82, 779.04, 3798.6076, 3799.4984, 3799.9726, 3799.8797, 3799.5412, 3800.2434, 3800.0187, 3800.1367, 3800.446, 2862.249, 7185.36, 22409.32, 48199.62, 108845.82, 134985.82, 151190.82, 157244.82, 149630.82, 94225.82, 6989.33, 14317.32, 60483.52, 7833.34, 1349.6, 3798.9163, 3799.4136, 3799.7683, 3799.7226], 'start': datetime.datetime(2018, 8, 10, 1, 10), 'feat_static_cat': [0], 'feat_dynamic_real': None, 'item_id': 'T1'}\n"
     ]
    },
    {
     "data": {
      "text/plain": [
       "dict_keys(['target', 'start', 'feat_static_cat', 'feat_dynamic_real', 'item_id'])"
      ]
     },
     "execution_count": 13,
     "metadata": {},
     "output_type": "execute_result"
    }
   ],
   "source": [
    "train_example = dataset['train'][0]\n",
    "print(train_example)\n",
    "train_example.keys()"
   ]
  },
  {
   "cell_type": "code",
   "execution_count": 14,
   "metadata": {},
   "outputs": [
    {
     "name": "stdout",
     "output_type": "stream",
     "text": [
      "2018-08-10 01:10:00\n",
      "[3800.8719, 3800.8793, 3800.8101, 3800.6657, 3801.1219, 1353.64, 8002.31, 29815.62, 65655.12, 104169.82, 129791.82, 143631.82, 155510.82, 56351.02, 92161.62, 110918.82, 45971.12, 18137.32, 15370.72, 1208.28, 3799.457, 3799.5768, 3799.201, 3799.4112, 3799.578, 3799.7499, 3799.8911, 3800.1425, 3800.1873, 1333.15, 6813.0, 31667.92, 68618.92, 111152.82, 136221.82, 152142.82, 159212.82, 154109.82, 139637.82, 111996.82, 78293.22, 38683.22, 6676.56, 1282.49, 3799.5863, 3799.8336, 3800.086, 3800.0396, 3800.0492, 3800.4734, 3800.7075, 3800.3601, 3800.6379, 1301.44, 6218.91, 31104.02, 69242.22, 109943.82, 136254.82, 148637.82, 153317.82, 155109.82, 136986.82, 110289.82, 42552.62, 48908.22, 11201.06, 1013.87, 3800.1817, 3800.402, 3800.6486, 3800.6664, 3800.7145, 3801.521, 3801.1647, 3801.1542, 3801.3851, 1363.77, 7705.51, 31127.92, 68677.62, 109134.82, 136717.82, 86117.62, 157485.82, 164767.82, 115927.82, 43110.72, 107625.82, 59141.12, 6727.94, 2289.75, 3799.7524, 3800.2646, 3800.3783, 3800.5117, 3800.2664, 3800.4297, 3800.4646, 3800.0415, 3800.4419, 3799.4968, 11370.07, 37173.42, 48544.32, 106972.82, 3436.93, 2164.56, 2570.22, 19861.12, 32110.12, 35734.02, 41832.12, 38751.52, 4438.571, 1770.99, 3799.2994, 3799.8031, 3800.0143, 3800.4571, 3800.3344, 3800.4349, 3800.7111, 3800.5269, 3800.9159, 1532.93, 5929.03, 32076.62, 71097.32, 111230.82, 141146.82, 158674.82, 166040.82, 28276.62, 56727.72, 79311.02, 76514.92, 34678.82, 11517.28, 1381.22, 3799.5415, 3799.8966, 3800.3862, 3800.1959, 3799.8205, 3800.1187, 3799.7494, 3800.4475, 3800.6639, 2482.82, 7848.2, 26312.02, 45812.82, 109722.82, 134589.82, 148624.82, 160775.82, 55270.82, 54328.02, 123298.82, 36137.82, 12071.51, 8671.82, 779.04, 3798.6076, 3799.4984, 3799.9726, 3799.8797, 3799.5412, 3800.2434, 3800.0187, 3800.1367, 3800.446, 2862.249, 7185.36, 22409.32, 48199.62, 108845.82, 134985.82, 151190.82, 157244.82, 149630.82, 94225.82, 6989.33, 14317.32, 60483.52, 7833.34, 1349.6, 3798.9163, 3799.4136, 3799.7683, 3799.7226]\n"
     ]
    }
   ],
   "source": [
    "print(train_example['start'])\n",
    "print(train_example['target'])"
   ]
  },
  {
   "cell_type": "code",
   "execution_count": 15,
   "metadata": {},
   "outputs": [
    {
     "data": {
      "text/plain": [
       "dict_keys(['target', 'start', 'feat_static_cat', 'feat_dynamic_real', 'item_id'])"
      ]
     },
     "execution_count": 15,
     "metadata": {},
     "output_type": "execute_result"
    }
   ],
   "source": [
    "validation_example = dataset['validation'][0]\n",
    "validation_example.keys()"
   ]
  },
  {
   "cell_type": "code",
   "execution_count": 16,
   "metadata": {},
   "outputs": [
    {
     "name": "stdout",
     "output_type": "stream",
     "text": [
      "2018-08-10 01:10:00\n",
      "[3800.8719, 3800.8793, 3800.8101, 3800.6657, 3801.1219, 1353.64, 8002.31, 29815.62, 65655.12, 104169.82, 129791.82, 143631.82, 155510.82, 56351.02, 92161.62, 110918.82, 45971.12, 18137.32, 15370.72, 1208.28, 3799.457, 3799.5768, 3799.201, 3799.4112, 3799.578, 3799.7499, 3799.8911, 3800.1425, 3800.1873, 1333.15, 6813.0, 31667.92, 68618.92, 111152.82, 136221.82, 152142.82, 159212.82, 154109.82, 139637.82, 111996.82, 78293.22, 38683.22, 6676.56, 1282.49, 3799.5863, 3799.8336, 3800.086, 3800.0396, 3800.0492, 3800.4734, 3800.7075, 3800.3601, 3800.6379, 1301.44, 6218.91, 31104.02, 69242.22, 109943.82, 136254.82, 148637.82, 153317.82, 155109.82, 136986.82, 110289.82, 42552.62, 48908.22, 11201.06, 1013.87, 3800.1817, 3800.402, 3800.6486, 3800.6664, 3800.7145, 3801.521, 3801.1647, 3801.1542, 3801.3851, 1363.77, 7705.51, 31127.92, 68677.62, 109134.82, 136717.82, 86117.62, 157485.82, 164767.82, 115927.82, 43110.72, 107625.82, 59141.12, 6727.94, 2289.75, 3799.7524, 3800.2646, 3800.3783, 3800.5117, 3800.2664, 3800.4297, 3800.4646, 3800.0415, 3800.4419, 3799.4968, 11370.07, 37173.42, 48544.32, 106972.82, 3436.93, 2164.56, 2570.22, 19861.12, 32110.12, 35734.02, 41832.12, 38751.52, 4438.571, 1770.99, 3799.2994, 3799.8031, 3800.0143, 3800.4571, 3800.3344, 3800.4349, 3800.7111, 3800.5269, 3800.9159, 1532.93, 5929.03, 32076.62, 71097.32, 111230.82, 141146.82, 158674.82, 166040.82, 28276.62, 56727.72, 79311.02, 76514.92, 34678.82, 11517.28, 1381.22, 3799.5415, 3799.8966, 3800.3862, 3800.1959, 3799.8205, 3800.1187, 3799.7494, 3800.4475, 3800.6639, 2482.82, 7848.2, 26312.02, 45812.82, 109722.82, 134589.82, 148624.82, 160775.82, 55270.82, 54328.02, 123298.82, 36137.82, 12071.51, 8671.82, 779.04, 3798.6076, 3799.4984, 3799.9726, 3799.8797, 3799.5412, 3800.2434, 3800.0187, 3800.1367, 3800.446, 2862.249, 7185.36, 22409.32, 48199.62, 108845.82, 134985.82, 151190.82, 157244.82, 149630.82, 94225.82, 6989.33, 14317.32, 60483.52, 7833.34, 1349.6, 3798.9163, 3799.4136, 3799.7683, 3799.7226, 3799.8982, 3800.3425, 3800.2576, 3800.7562, 3800.7434, 1991.76, 5534.68, 29736.92, 67262.92, 108568.82, 136877.82, 151448.82, 160938.82, 48534.72, 54518.42, 47405.02, 31317.12, 16982.02, 3543.652, 1663.06, 3799.4674, 3799.6781, 3800.1489, 3800.3076]\n"
     ]
    }
   ],
   "source": [
    "print(validation_example['start'])\n",
    "print(validation_example['target'])"
   ]
  },
  {
   "cell_type": "code",
   "execution_count": 17,
   "metadata": {},
   "outputs": [
    {
     "name": "stdout",
     "output_type": "stream",
     "text": [
      "<class 'list'>\n"
     ]
    }
   ],
   "source": [
    "freq = \"1H\"\n",
    "prediction_length = 24\n",
    "\n",
    "print(type(train_example[\"target\"]))\n",
    "\n",
    "assert len(train_example[\"target\"]) + prediction_length == len(\n",
    "    validation_example[\"target\"]\n",
    ")"
   ]
  },
  {
   "cell_type": "code",
   "execution_count": 18,
   "metadata": {},
   "outputs": [
    {
     "data": {
      "image/png": "[encoded data removed]",
      "text/plain": [
       "<Figure size 640x480 with 1 Axes>"
      ]
     },
     "metadata": {},
     "output_type": "display_data"
    }
   ],
   "source": [
    "import matplotlib.pyplot as plt\n",
    "\n",
    "figure, axes = plt.subplots()\n",
    "axes.plot(train_example[\"target\"], color=\"blue\")\n",
    "axes.plot(validation_example[\"target\"], color=\"red\", alpha=0.5)\n",
    "\n",
    "plt.show()"
   ]
  },
  {
   "cell_type": "code",
   "execution_count": 19,
   "metadata": {},
   "outputs": [],
   "source": [
    "train_dataset = dataset[\"train\"]\n",
    "test_dataset = dataset[\"test\"]"
   ]
  },
  {
   "cell_type": "code",
   "execution_count": 20,
   "metadata": {},
   "outputs": [],
   "source": [
    "from functools import lru_cache\n",
    "\n",
    "import pandas as pd\n",
    "import numpy as np\n",
    "\n",
    "@lru_cache(10_000)\n",
    "def convert_to_pandas_period(date, freq):\n",
    "    return pd.Period(date, freq)\n",
    "\n",
    "def transform_start_field(batch, freq):\n",
    "    batch[\"start\"] = [convert_to_pandas_period(date, freq) for date in batch[\"start\"]]\n",
    "    return batch\n"
   ]
  },
  {
   "cell_type": "code",
   "execution_count": 21,
   "metadata": {},
   "outputs": [],
   "source": [
    "from functools import partial\n",
    "\n",
    "train_dataset.set_transform(partial(transform_start_field, freq=freq))\n",
    "test_dataset.set_transform(partial(transform_start_field, freq=freq))"
   ]
  },
  {
   "cell_type": "code",
   "execution_count": 22,
   "metadata": {},
   "outputs": [
    {
     "name": "stdout",
     "output_type": "stream",
     "text": [
      "[1, 2, 3, 4, 5, 6, 7, 23, 24, 25, 47, 48, 49, 71, 72, 73, 95, 96, 97, 119, 120, 121, 143, 144, 145, 167, 168, 169, 335, 336, 337, 503, 504, 505, 671, 672, 673, 719, 720, 721]\n"
     ]
    }
   ],
   "source": [
    "from gluonts.time_feature import get_lags_for_frequency\n",
    "\n",
    "lags_sequence = get_lags_for_frequency(freq)\n",
    "print(lags_sequence)"
   ]
  },
  {
   "cell_type": "code",
   "execution_count": 23,
   "metadata": {},
   "outputs": [
    {
     "name": "stdout",
     "output_type": "stream",
     "text": [
      "[<function hour_of_day at 0x00000285BE5CC790>, <function day_of_week at 0x00000285BE5CC8B0>, <function day_of_month at 0x00000285BE5CC9D0>, <function day_of_year at 0x00000285BE5CCAF0>]\n"
     ]
    }
   ],
   "source": [
    "from gluonts.time_feature import time_features_from_frequency_str\n",
    "\n",
    "time_features = time_features_from_frequency_str(freq)\n",
    "print(time_features)"
   ]
  },
  {
   "cell_type": "code",
   "execution_count": 24,
   "metadata": {},
   "outputs": [],
   "source": [
    "from transformers import TimeSeriesTransformerConfig, TimeSeriesTransformerForPrediction\n",
    "\n",
    "config = TimeSeriesTransformerConfig(\n",
    "    prediction_length=prediction_length,\n",
    "    # context length:\n",
    "    context_length=prediction_length * 2,\n",
    "    # lags coming from helper given the freq:\n",
    "    lags_sequence=lags_sequence,\n",
    "    # we'll add 2 time features (\"month of year\" and \"age\", see further):\n",
    "    num_time_features=len(time_features) + 1,\n",
    "    # we have a single static categorical feature, namely time series ID:\n",
    "    num_static_categorical_features=1,\n",
    "    # it has 366 possible values:\n",
    "    cardinality=[len(train_dataset)],\n",
    "    # the model will learn an embedding of size 2 for each of the 366 possible values:\n",
    "    embedding_dimension=[2],\n",
    "    \n",
    "    # transformer params:\n",
    "    encoder_layers=4,\n",
    "    decoder_layers=4,\n",
    "    d_model=32,\n",
    ")\n",
    "\n",
    "model = TimeSeriesTransformerForPrediction(config)"
   ]
  },
  {
   "cell_type": "code",
   "execution_count": 25,
   "metadata": {},
   "outputs": [
    {
     "data": {
      "text/plain": [
       "'student_t'"
      ]
     },
     "execution_count": 25,
     "metadata": {},
     "output_type": "execute_result"
    }
   ],
   "source": [
    "model.config.distribution_output\n"
   ]
  },
  {
   "cell_type": "code",
   "execution_count": 26,
   "metadata": {},
   "outputs": [],
   "source": [
    "from gluonts.time_feature import (\n",
    "    time_features_from_frequency_str,\n",
    "    TimeFeature,\n",
    "    get_lags_for_frequency,\n",
    ")\n",
    "from gluonts.dataset.field_names import FieldName\n",
    "from gluonts.transform import (\n",
    "    AddAgeFeature,\n",
    "    AddObservedValuesIndicator,\n",
    "    AddTimeFeatures,\n",
    "    AsNumpyArray,\n",
    "    Chain,\n",
    "    ExpectedNumInstanceSampler,\n",
    "    InstanceSplitter,\n",
    "    RemoveFields,\n",
    "    SelectFields,\n",
    "    SetField,\n",
    "    TestSplitSampler,\n",
    "    Transformation,\n",
    "    ValidationSplitSampler,\n",
    "    VstackFeatures,\n",
    "    RenameFields,\n",
    ")"
   ]
  },
  {
   "cell_type": "code",
   "execution_count": 27,
   "metadata": {},
   "outputs": [],
   "source": [
    "from transformers import PretrainedConfig\n",
    "\n",
    "def create_transformation(freq: str, config: PretrainedConfig) -> Transformation:\n",
    "    remove_field_names = []\n",
    "    if config.num_static_real_features == 0:\n",
    "        remove_field_names.append(FieldName.FEAT_STATIC_REAL)\n",
    "    if config.num_dynamic_real_features == 0:\n",
    "        remove_field_names.append(FieldName.FEAT_DYNAMIC_REAL)\n",
    "    if config.num_static_categorical_features == 0:\n",
    "        remove_field_names.append(FieldName.FEAT_STATIC_CAT)\n",
    "\n",
    "    # a bit like torchvision.transforms.Compose\n",
    "    return Chain(\n",
    "        # step 1: remove static/dynamic fields if not specified\n",
    "        [RemoveFields(field_names=remove_field_names)]\n",
    "        # step 2: convert the data to NumPy (potentially not needed)\n",
    "        + (\n",
    "            [\n",
    "                AsNumpyArray(\n",
    "                    field=FieldName.FEAT_STATIC_CAT,\n",
    "                    expected_ndim=1,\n",
    "                    dtype=int,\n",
    "                )\n",
    "            ]\n",
    "            if config.num_static_categorical_features > 0\n",
    "            else []\n",
    "        )\n",
    "        + (\n",
    "            [\n",
    "                AsNumpyArray(\n",
    "                    field=FieldName.FEAT_STATIC_REAL,\n",
    "                    expected_ndim=1,\n",
    "                )\n",
    "            ]\n",
    "            if config.num_static_real_features > 0\n",
    "            else []\n",
    "        )\n",
    "        + [\n",
    "            AsNumpyArray(\n",
    "                field=FieldName.TARGET,\n",
    "                # we expect an extra dim for the multivariate case:\n",
    "                expected_ndim=1 if config.input_size == 1 else 2,\n",
    "            ),\n",
    "            # step 3: handle the NaN's by filling in the target with zero\n",
    "            # and return the mask (which is in the observed values)\n",
    "            # true for observed values, false for nan's\n",
    "            # the decoder uses this mask (no loss is incurred for unobserved values)\n",
    "            # see loss_weights inside the xxxForPrediction model\n",
    "            AddObservedValuesIndicator(\n",
    "                target_field=FieldName.TARGET,\n",
    "                output_field=FieldName.OBSERVED_VALUES,\n",
    "            ),\n",
    "            # step 4: add temporal features based on freq of the dataset\n",
    "            # month of year in the case when freq=\"M\"\n",
    "            # these serve as positional encodings\n",
    "            AddTimeFeatures(\n",
    "                start_field=FieldName.START,\n",
    "                target_field=FieldName.TARGET,\n",
    "                output_field=FieldName.FEAT_TIME,\n",
    "                time_features=time_features_from_frequency_str(freq),\n",
    "                pred_length=config.prediction_length,\n",
    "            ),\n",
    "            # step 5: add another temporal feature (just a single number)\n",
    "            # tells the model where in its life the value of the time series is,\n",
    "            # sort of a running counter\n",
    "            AddAgeFeature(\n",
    "                target_field=FieldName.TARGET,\n",
    "                output_field=FieldName.FEAT_AGE,\n",
    "                pred_length=config.prediction_length,\n",
    "                log_scale=True,\n",
    "            ),\n",
    "            # step 6: vertically stack all the temporal features into the key FEAT_TIME\n",
    "            VstackFeatures(\n",
    "                output_field=FieldName.FEAT_TIME,\n",
    "                input_fields=[FieldName.FEAT_TIME, FieldName.FEAT_AGE]\n",
    "                + (\n",
    "                    [FieldName.FEAT_DYNAMIC_REAL]\n",
    "                    if config.num_dynamic_real_features > 0\n",
    "                    else []\n",
    "                ),\n",
    "            ),\n",
    "            # step 7: rename to match HuggingFace names\n",
    "            RenameFields(\n",
    "                mapping={\n",
    "                    FieldName.FEAT_STATIC_CAT: \"static_categorical_features\",\n",
    "                    FieldName.FEAT_STATIC_REAL: \"static_real_features\",\n",
    "                    FieldName.FEAT_TIME: \"time_features\",\n",
    "                    FieldName.TARGET: \"values\",\n",
    "                    FieldName.OBSERVED_VALUES: \"observed_mask\",\n",
    "                }\n",
    "            ),\n",
    "        ]\n",
    "    )"
   ]
  },
  {
   "cell_type": "code",
   "execution_count": 28,
   "metadata": {},
   "outputs": [],
   "source": [
    "from gluonts.transform.sampler import InstanceSampler\n",
    "from typing import Optional\n",
    "\n",
    "def create_instance_splitter(\n",
    "    config: PretrainedConfig,\n",
    "    mode: str,\n",
    "    train_sampler: Optional[InstanceSampler] = None,\n",
    "    validation_sampler: Optional[InstanceSampler] = None,\n",
    ") -> Transformation:\n",
    "    assert mode in [\"train\", \"validation\", \"test\"]\n",
    "\n",
    "    instance_sampler = {\n",
    "        \"train\": train_sampler\n",
    "        or ExpectedNumInstanceSampler(\n",
    "            num_instances=1.0, min_future=config.prediction_length\n",
    "        ),\n",
    "        \"validation\": validation_sampler\n",
    "        or ValidationSplitSampler(min_future=config.prediction_length),\n",
    "        \"test\": TestSplitSampler(),\n",
    "    }[mode]\n",
    "\n",
    "    return InstanceSplitter(\n",
    "        target_field=\"values\",\n",
    "        is_pad_field=FieldName.IS_PAD,\n",
    "        start_field=FieldName.START,\n",
    "        forecast_start_field=FieldName.FORECAST_START,\n",
    "        instance_sampler=instance_sampler,\n",
    "        past_length=config.context_length + max(config.lags_sequence),\n",
    "        future_length=config.prediction_length,\n",
    "        time_series_fields=[\"time_features\", \"observed_mask\"],\n",
    "    )\n"
   ]
  },
  {
   "cell_type": "code",
   "execution_count": 29,
   "metadata": {},
   "outputs": [],
   "source": [
    "from typing import Iterable\n",
    "\n",
    "import torch\n",
    "from gluonts.itertools import Cached, Cyclic\n",
    "from gluonts.dataset.loader import as_stacked_batches\n",
    "\n",
    "\n",
    "def create_train_dataloader(\n",
    "    config: PretrainedConfig,\n",
    "    freq,\n",
    "    data,\n",
    "    batch_size: int,\n",
    "    num_batches_per_epoch: int,\n",
    "    shuffle_buffer_length: Optional[int] = None,\n",
    "    cache_data: bool = True,\n",
    "    **kwargs,\n",
    ") -> Iterable:\n",
    "    PREDICTION_INPUT_NAMES = [\n",
    "        \"past_time_features\",\n",
    "        \"past_values\",\n",
    "        \"past_observed_mask\",\n",
    "        \"future_time_features\",\n",
    "    ]\n",
    "    if config.num_static_categorical_features > 0:\n",
    "        PREDICTION_INPUT_NAMES.append(\"static_categorical_features\")\n",
    "\n",
    "    if config.num_static_real_features > 0:\n",
    "        PREDICTION_INPUT_NAMES.append(\"static_real_features\")\n",
    "\n",
    "    TRAINING_INPUT_NAMES = PREDICTION_INPUT_NAMES + [\n",
    "        \"future_values\",\n",
    "        \"future_observed_mask\",\n",
    "    ]\n",
    "\n",
    "    transformation = create_transformation(freq, config)\n",
    "    transformed_data = transformation.apply(data, is_train=True)\n",
    "    if cache_data:\n",
    "        transformed_data = Cached(transformed_data)\n",
    "\n",
    "    # we initialize a Training instance\n",
    "    instance_splitter = create_instance_splitter(config, \"train\")\n",
    "\n",
    "    # the instance splitter will sample a window of\n",
    "    # context length + lags + prediction length (from the 366 possible transformed time series)\n",
    "    # randomly from within the target time series and return an iterator.\n",
    "    stream = Cyclic(transformed_data).stream()\n",
    "    training_instances = instance_splitter.apply(\n",
    "        stream, is_train=True\n",
    "    )\n",
    "    \n",
    "    return as_stacked_batches(\n",
    "        training_instances,\n",
    "        batch_size=batch_size,\n",
    "        shuffle_buffer_length=shuffle_buffer_length,\n",
    "        field_names=TRAINING_INPUT_NAMES,\n",
    "        output_type=torch.tensor,\n",
    "        num_batches_per_epoch=num_batches_per_epoch,\n",
    "    )"
   ]
  },
  {
   "cell_type": "code",
   "execution_count": 30,
   "metadata": {},
   "outputs": [],
   "source": [
    "def create_test_dataloader(\n",
    "    config: PretrainedConfig,\n",
    "    freq,\n",
    "    data,\n",
    "    batch_size: int,\n",
    "    **kwargs,\n",
    "):\n",
    "    PREDICTION_INPUT_NAMES = [\n",
    "        \"past_time_features\",\n",
    "        \"past_values\",\n",
    "        \"past_observed_mask\",\n",
    "        \"future_time_features\",\n",
    "    ]\n",
    "    if config.num_static_categorical_features > 0:\n",
    "        PREDICTION_INPUT_NAMES.append(\"static_categorical_features\")\n",
    "\n",
    "    if config.num_static_real_features > 0:\n",
    "        PREDICTION_INPUT_NAMES.append(\"static_real_features\")\n",
    "\n",
    "    transformation = create_transformation(freq, config)\n",
    "    transformed_data = transformation.apply(data, is_train=False)\n",
    "\n",
    "    # we create a Test Instance splitter which will sample the very last\n",
    "    # context window seen during training only for the encoder.\n",
    "    instance_sampler = create_instance_splitter(config, \"test\")\n",
    "\n",
    "    # we apply the transformations in test mode\n",
    "    testing_instances = instance_sampler.apply(transformed_data, is_train=False)\n",
    "    \n",
    "    return as_stacked_batches(\n",
    "        testing_instances,\n",
    "        batch_size=batch_size,\n",
    "        output_type=torch.tensor,\n",
    "        field_names=PREDICTION_INPUT_NAMES,\n",
    "    )"
   ]
  },
  {
   "cell_type": "code",
   "execution_count": 31,
   "metadata": {},
   "outputs": [],
   "source": [
    "train_dataloader = create_train_dataloader(\n",
    "    config=config,\n",
    "    freq=freq,\n",
    "    data=train_dataset,\n",
    "    batch_size=256,\n",
    "    num_batches_per_epoch=100,\n",
    ")\n",
    "\n",
    "test_dataloader = create_test_dataloader(\n",
    "    config=config,\n",
    "    freq=freq,\n",
    "    data=test_dataset,\n",
    "    batch_size=64,\n",
    ")"
   ]
  },
  {
   "cell_type": "code",
   "execution_count": 32,
   "metadata": {},
   "outputs": [
    {
     "name": "stdout",
     "output_type": "stream",
     "text": [
      "past_time_features torch.Size([256, 769, 5]) torch.FloatTensor\n",
      "past_values torch.Size([256, 769]) torch.FloatTensor\n",
      "past_observed_mask torch.Size([256, 769]) torch.FloatTensor\n",
      "future_time_features torch.Size([256, 24, 5]) torch.FloatTensor\n",
      "static_categorical_features torch.Size([256, 1]) torch.IntTensor\n",
      "future_values torch.Size([256, 24]) torch.FloatTensor\n",
      "future_observed_mask torch.Size([256, 24]) torch.FloatTensor\n"
     ]
    }
   ],
   "source": [
    "batch = next(iter(train_dataloader))\n",
    "for k, v in batch.items():\n",
    "    print(k, v.shape, v.type())"
   ]
  },
  {
   "cell_type": "code",
   "execution_count": 33,
   "metadata": {},
   "outputs": [],
   "source": [
    "# perform forward pass\n",
    "outputs = model(\n",
    "    past_values=batch[\"past_values\"],\n",
    "    past_time_features=batch[\"past_time_features\"],\n",
    "    past_observed_mask=batch[\"past_observed_mask\"],\n",
    "    static_categorical_features=batch[\"static_categorical_features\"]\n",
    "    if config.num_static_categorical_features > 0\n",
    "    else None,\n",
    "    static_real_features=batch[\"static_real_features\"]\n",
    "    if config.num_static_real_features > 0\n",
    "    else None,\n",
    "    future_values=batch[\"future_values\"],\n",
    "    future_time_features=batch[\"future_time_features\"],\n",
    "    future_observed_mask=batch[\"future_observed_mask\"],\n",
    "    output_hidden_states=True,\n",
    ")"
   ]
  },
  {
   "cell_type": "code",
   "execution_count": 34,
   "metadata": {},
   "outputs": [
    {
     "name": "stdout",
     "output_type": "stream",
     "text": [
      "Loss: 12.18172836303711\n"
     ]
    }
   ],
   "source": [
    "print(\"Loss:\", outputs.loss.item())"
   ]
  },
  {
   "cell_type": "code",
   "execution_count": null,
   "metadata": {},
   "outputs": [],
   "source": [
    "from accelerate import Accelerator\n",
    "from torch.optim import AdamW\n",
    "\n",
    "accelerator = Accelerator()\n",
    "device = accelerator.device\n",
    "\n",
    "history = []\n",
    "\n",
    "model.to(device)\n",
    "optimizer = AdamW(model.parameters(), lr=6e-4, betas=(0.9, 0.95), weight_decay=1e-1)\n",
    "\n",
    "model, optimizer, train_dataloader = accelerator.prepare(\n",
    "    model,\n",
    "    optimizer,\n",
    "    train_dataloader,\n",
    ")\n",
    "\n",
    "length_train = len(list(train_dataloader))\n",
    "model.train()"
   ]
  },
  {
   "cell_type": "code",
   "execution_count": 47,
   "metadata": {},
   "outputs": [
    {
     "name": "stdout",
     "output_type": "stream",
     "text": [
      "Epoch: 0/10..  Batch: 0/100..  Training Loss: 8.909.. \n",
      "Epoch: 0/10..  Batch: 50/100..  Training Loss: 8.962.. \n",
      "Epoch: 1/10..  Batch: 0/100..  Training Loss: 8.921.. \n",
      "Epoch: 1/10..  Batch: 50/100..  Training Loss: 8.857.. \n",
      "Epoch: 2/10..  Batch: 0/100..  Training Loss: 8.861.. \n",
      "Epoch: 2/10..  Batch: 50/100..  Training Loss: 8.861.. \n",
      "Epoch: 3/10..  Batch: 0/100..  Training Loss: 8.885.. \n",
      "Epoch: 3/10..  Batch: 50/100..  Training Loss: 8.961.. \n",
      "Epoch: 4/10..  Batch: 0/100..  Training Loss: 8.825.. \n",
      "Epoch: 4/10..  Batch: 50/100..  Training Loss: 8.868.. \n",
      "Epoch: 5/10..  Batch: 0/100..  Training Loss: 8.847.. \n",
      "Epoch: 5/10..  Batch: 50/100..  Training Loss: 8.868.. \n",
      "Epoch: 6/10..  Batch: 0/100..  Training Loss: 8.814.. \n",
      "Epoch: 6/10..  Batch: 50/100..  Training Loss: 8.805.. \n",
      "Epoch: 7/10..  Batch: 0/100..  Training Loss: 8.878.. \n",
      "Epoch: 7/10..  Batch: 50/100..  Training Loss: 8.776.. \n",
      "Epoch: 8/10..  Batch: 0/100..  Training Loss: 8.912.. \n",
      "Epoch: 8/10..  Batch: 50/100..  Training Loss: 8.831.. \n",
      "Epoch: 9/10..  Batch: 0/100..  Training Loss: 8.871.. \n",
      "Epoch: 9/10..  Batch: 50/100..  Training Loss: 8.796.. \n"
     ]
    }
   ],
   "source": [
    "\n",
    "epochs = 10\n",
    "\n",
    "for epoch in range(epochs):    \n",
    "    for idx, batch in enumerate(train_dataloader):        \n",
    "        optimizer.zero_grad()\n",
    "        outputs = model(\n",
    "            static_categorical_features=batch[\"static_categorical_features\"].to(device)\n",
    "            if config.num_static_categorical_features > 0\n",
    "            else None,\n",
    "            static_real_features=batch[\"static_real_features\"].to(device)\n",
    "            if config.num_static_real_features > 0\n",
    "            else None,\n",
    "            past_time_features=batch[\"past_time_features\"].to(device),\n",
    "            past_values=batch[\"past_values\"].to(device),\n",
    "            future_time_features=batch[\"future_time_features\"].to(device),\n",
    "            future_values=batch[\"future_values\"].to(device),\n",
    "            past_observed_mask=batch[\"past_observed_mask\"].to(device),\n",
    "            future_observed_mask=batch[\"future_observed_mask\"].to(device),\n",
    "        )\n",
    "        loss = outputs.loss\n",
    "\n",
    "        history.append(loss)\n",
    "\n",
    "        # Backpropagation\n",
    "        accelerator.backward(loss)\n",
    "        optimizer.step()\n",
    "\n",
    "        if idx % 50 == 0:\n",
    "            print(\"Epoch: {}/{}.. \".format(epoch, epochs),\n",
    "                \"Batch: {}/{}.. \".format(idx, length_train),\n",
    "                \"Training Loss: {:.3f}.. \".format(loss))    "
   ]
  },
  {
   "cell_type": "code",
   "execution_count": 48,
   "metadata": {},
   "outputs": [
    {
     "name": "stdout",
     "output_type": "stream",
     "text": [
      "<class 'list'>\n"
     ]
    }
   ],
   "source": [
    "print(type(history))"
   ]
  },
  {
   "cell_type": "code",
   "execution_count": 49,
   "metadata": {},
   "outputs": [
    {
     "data": {
      "text/plain": [
       "[<matplotlib.lines.Line2D at 0x285d15d2a90>]"
      ]
     },
     "execution_count": 49,
     "metadata": {},
     "output_type": "execute_result"
    },
    {
     "data": {
      "image/png": "[encoded data removed]",
      "text/plain": [
       "<Figure size 640x480 with 1 Axes>"
      ]
     },
     "metadata": {},
     "output_type": "display_data"
    }
   ],
   "source": [
    "n = np.array([])\n",
    "\n",
    "for x in history:\n",
    "    #print(x)\n",
    "    a = x.data.cpu().numpy()    \n",
    "    n = np.append(n, a)\n",
    "\n",
    "plt.plot(n)"
   ]
  },
  {
   "cell_type": "code",
   "execution_count": 38,
   "metadata": {},
   "outputs": [],
   "source": [
    "model.eval()\n",
    "\n",
    "forecasts = []\n",
    "\n",
    "for batch in test_dataloader:\n",
    "    outputs = model.generate(\n",
    "        static_categorical_features=batch[\"static_categorical_features\"].to(device)\n",
    "        if config.num_static_categorical_features > 0\n",
    "        else None,\n",
    "        static_real_features=batch[\"static_real_features\"].to(device)\n",
    "        if config.num_static_real_features > 0\n",
    "        else None,\n",
    "        past_time_features=batch[\"past_time_features\"].to(device),\n",
    "        past_values=batch[\"past_values\"].to(device),\n",
    "        future_time_features=batch[\"future_time_features\"].to(device),\n",
    "        past_observed_mask=batch[\"past_observed_mask\"].to(device),\n",
    "    )\n",
    "    forecasts.append(outputs.sequences.cpu().numpy())"
   ]
  },
  {
   "cell_type": "code",
   "execution_count": 39,
   "metadata": {},
   "outputs": [
    {
     "data": {
      "text/plain": [
       "(64, 100, 24)"
      ]
     },
     "execution_count": 39,
     "metadata": {},
     "output_type": "execute_result"
    }
   ],
   "source": [
    "forecasts[0].shape"
   ]
  },
  {
   "cell_type": "code",
   "execution_count": 40,
   "metadata": {},
   "outputs": [
    {
     "name": "stdout",
     "output_type": "stream",
     "text": [
      "(708, 100, 24)\n"
     ]
    }
   ],
   "source": [
    "forecasts = np.vstack(forecasts)\n",
    "print(forecasts.shape)"
   ]
  },
  {
   "cell_type": "code",
   "execution_count": 41,
   "metadata": {},
   "outputs": [
    {
     "name": "stdout",
     "output_type": "stream",
     "text": [
      "item_id: 0\n",
      "item_id: 1\n",
      "item_id: 2\n",
      "item_id: 3\n",
      "item_id: 4\n",
      "item_id: 5\n",
      "item_id: 6\n",
      "item_id: 7\n",
      "item_id: 8\n",
      "item_id: 9\n",
      "MASE: 1.0302958871856327\n",
      "sMAPE: 0.3423136931799976\n"
     ]
    }
   ],
   "source": [
    "from evaluate import load\n",
    "from gluonts.time_feature import get_seasonality\n",
    "\n",
    "mase_metric = load(\"evaluate-metric/mase\")\n",
    "smape_metric = load(\"evaluate-metric/smape\")\n",
    "\n",
    "forecast_median = np.median(forecasts, 1)\n",
    "\n",
    "mase_metrics = []\n",
    "smape_metrics = []\n",
    "for item_id, ts in enumerate(test_dataset.select(range(10))):\n",
    "\n",
    "    print(f\"item_id: {item_id}\")\n",
    "    training_data = ts[\"target\"][:-prediction_length]\n",
    "    ground_truth = ts[\"target\"][-prediction_length:]\n",
    "    mase = mase_metric.compute(\n",
    "        predictions=forecast_median[item_id], \n",
    "        references=np.array(ground_truth), \n",
    "        training=np.array(training_data), \n",
    "        periodicity=get_seasonality(freq))\n",
    "    mase_metrics.append(mase[\"mase\"])\n",
    "    \n",
    "    smape = smape_metric.compute(\n",
    "        predictions=forecast_median[item_id], \n",
    "        references=np.array(ground_truth), \n",
    "    )\n",
    "    smape_metrics.append(smape[\"smape\"])\n",
    "\n",
    "print(f\"MASE: {np.mean(mase_metrics)}\")\n",
    "\n",
    "print(f\"sMAPE: {np.mean(smape_metrics)}\")"
   ]
  },
  {
   "cell_type": "code",
   "execution_count": 42,
   "metadata": {},
   "outputs": [
    {
     "data": {
      "image/png": "[encoded data removed]",
      "text/plain": [
       "<Figure size 640x480 with 1 Axes>"
      ]
     },
     "metadata": {},
     "output_type": "display_data"
    }
   ],
   "source": [
    "plt.scatter(mase_metrics, smape_metrics, alpha=0.3)\n",
    "plt.xlabel(\"MASE\")\n",
    "plt.ylabel(\"sMAPE\")\n",
    "plt.show()"
   ]
  },
  {
   "cell_type": "code",
   "execution_count": 43,
   "metadata": {},
   "outputs": [],
   "source": [
    "import matplotlib.dates as mdates\n",
    "\n",
    "def plot(ts_index):\n",
    "    fig, ax = plt.subplots()\n",
    "\n",
    "    index = pd.period_range(\n",
    "        start=test_dataset[ts_index][FieldName.START],\n",
    "        periods=len(test_dataset[ts_index][FieldName.TARGET]),\n",
    "        freq=freq,\n",
    "    ).to_timestamp()\n",
    "\n",
    "    # Major ticks every half year, minor ticks every month,\n",
    "    ax.xaxis.set_major_locator(mdates.MonthLocator(bymonth=(1, 7)))\n",
    "    ax.xaxis.set_minor_locator(mdates.MonthLocator())\n",
    "\n",
    "    ax.plot(\n",
    "        index[-2*prediction_length:], \n",
    "        test_dataset[ts_index][\"target\"][-2*prediction_length:],\n",
    "        label=\"actual\",\n",
    "    )\n",
    "\n",
    "    plt.plot(\n",
    "        index[-prediction_length:], \n",
    "        np.median(forecasts[ts_index], axis=0),\n",
    "        label=\"median\",\n",
    "    )\n",
    "    \n",
    "    plt.fill_between(\n",
    "        index[-prediction_length:],\n",
    "        forecasts[ts_index].mean(0) - forecasts[ts_index].std(axis=0), \n",
    "        forecasts[ts_index].mean(0) + forecasts[ts_index].std(axis=0), \n",
    "        alpha=0.3, \n",
    "        interpolate=True,\n",
    "        label=\"+/- 1-std\",\n",
    "    )\n",
    "    plt.legend()\n",
    "    plt.show()"
   ]
  },
  {
   "cell_type": "code",
   "execution_count": 44,
   "metadata": {},
   "outputs": [
    {
     "data": {
      "image/png": "[encoded data removed]",
      "text/plain": [
       "<Figure size 640x480 with 1 Axes>"
      ]
     },
     "metadata": {},
     "output_type": "display_data"
    }
   ],
   "source": [
    "plot(2)"
   ]
  },
  {
   "cell_type": "code",
   "execution_count": 45,
   "metadata": {},
   "outputs": [
    {
     "data": {
      "image/png": "[encoded data removed]",
      "text/plain": [
       "<Figure size 640x480 with 1 Axes>"
      ]
     },
     "metadata": {},
     "output_type": "display_data"
    }
   ],
   "source": [
    "plot(0)"
   ]
  },
  {
   "cell_type": "code",
   "execution_count": null,
   "metadata": {},
   "outputs": [],
   "source": []
  }
 ],
 "metadata": {
  "kernelspec": {
   "display_name": "hackathon",
   "language": "python",
   "name": "python3"
  },
  "language_info": {
   "codemirror_mode": {
    "name": "ipython",
    "version": 3
   },
   "file_extension": ".py",
   "mimetype": "text/x-python",
   "name": "python",
   "nbconvert_exporter": "python",
   "pygments_lexer": "ipython3",
   "version": "3.9.0"
  },
  "orig_nbformat": 4
 },
 "nbformat": 4,
 "nbformat_minor": 2
}
